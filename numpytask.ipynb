{
 "cells": [
  {
   "cell_type": "markdown",
   "id": "542436b4-523e-49a3-8085-75aefcf67de6",
   "metadata": {},
   "source": [
    "# NumPy Arrays"
   ]
  },
  {
   "cell_type": "markdown",
   "id": "9b21196f-499c-47f8-8f9e-cda317d1689b",
   "metadata": {},
   "source": [
    "before proceeding towards pandas data structure ,let us have a brief review of numPy arrays because -"
   ]
  },
  {
   "cell_type": "markdown",
   "id": "9c33bd78-fc99-41a0-be04-4d842be0c3d6",
   "metadata": {},
   "source": [
    "NumPY (\"Numerical python\" or Numeric python\")is an open source model of python the provides function for fast mathematical compulation on arrays and matrices."
   ]
  },
  {
   "cell_type": "markdown",
   "id": "6e154f69-cc8b-496a-a044-39bc726d432d",
   "metadata": {},
   "source": [
    "NumPy arrays come in two forms"
   ]
  },
  {
   "cell_type": "markdown",
   "id": "44127ef7-363b-4936-ac05-5e225dd28de3",
   "metadata": {},
   "source": [
    "1-D array-also known as vector.\n",
    "multimentional arrays- also known as Matrices"
   ]
  },
  {
   "cell_type": "code",
   "execution_count": 60,
   "id": "f2722a4c-5b8f-458d-8a92-91579b60950d",
   "metadata": {},
   "outputs": [
    {
     "data": {
      "text/plain": [
       "[1, 2, 3, 4]"
      ]
     },
     "execution_count": 60,
     "metadata": {},
     "output_type": "execute_result"
    }
   ],
   "source": [
    "import numpy as np\n",
    "lst=[1,2,3,4]\n",
    "a1=np.array(lst)\n",
    "lst\n"
   ]
  },
  {
   "cell_type": "code",
   "execution_count": 61,
   "id": "112e317a-a37f-4926-8f19-6209aaf6095f",
   "metadata": {},
   "outputs": [
    {
     "name": "stdout",
     "output_type": "stream",
     "text": [
      "[1 2 3 4]\n"
     ]
    }
   ],
   "source": [
    "print(a1)"
   ]
  },
  {
   "cell_type": "code",
   "execution_count": 62,
   "id": "6a6d5e6d-e1cb-4c25-b6f5-94296840bbe4",
   "metadata": {},
   "outputs": [
    {
     "data": {
      "text/plain": [
       "array([1, 2, 3, 4])"
      ]
     },
     "execution_count": 62,
     "metadata": {},
     "output_type": "execute_result"
    }
   ],
   "source": [
    "a1"
   ]
  },
  {
   "cell_type": "markdown",
   "id": "1a4e5733-023d-4f68-91cd-158da7976ea4",
   "metadata": {},
   "source": [
    "## NumPy Arrays vs Pyhthon lists"
   ]
  },
  {
   "cell_type": "markdown",
   "id": "c84eb551-c63e-4394-b791-f3250b4693f4",
   "metadata": {},
   "source": [
    "Although NumPy array also holds elements like python list ,yet numpy arrays are different data structure from python list. The key difference are-"
   ]
  },
  {
   "cell_type": "markdown",
   "id": "2db09c9c-e604-4d5e-84d9-4dde8efeb7ba",
   "metadata": {},
   "source": [
    "once NumPy array is created ,you cannot change its size. you will have to create a new array or overwrite the exixting one."
   ]
  },
  {
   "cell_type": "markdown",
   "id": "81b043bd-9ab2-4393-b578-6664c8dad141",
   "metadata": {},
   "source": [
    "NumPY array contain element of homogenous type,unlike python list"
   ]
  },
  {
   "cell_type": "markdown",
   "id": "f64a4d52-d350-482b-9e00-4f567e88bf5b",
   "metadata": {},
   "source": [
    "An equivalent NumPy array occupies much less space than a python list."
   ]
  },
  {
   "cell_type": "markdown",
   "id": "0bc1f625-53eb-4f24-a4ef-78591ae2e9ee",
   "metadata": {},
   "source": [
    "NumPy array supports Vectorized operation,i.e,you need to perform any functio n on every item one by one which is not in"
   ]
  },
  {
   "cell_type": "code",
   "execution_count": 63,
   "id": "2d40b1d0-585e-4660-bf12-0bc3a27c125d",
   "metadata": {},
   "outputs": [
    {
     "data": {
      "text/plain": [
       "[1, 2, 3, 4]"
      ]
     },
     "execution_count": 63,
     "metadata": {},
     "output_type": "execute_result"
    }
   ],
   "source": [
    "import numpy as np\n",
    "lst=[1,2,3,4]\n",
    "a1=np.array(lst)\n",
    "lst\n"
   ]
  },
  {
   "cell_type": "code",
   "execution_count": 64,
   "id": "c1bd21d0-88c8-4072-a9ac-bc187d095f23",
   "metadata": {},
   "outputs": [
    {
     "data": {
      "text/plain": [
       "array([3, 4, 5, 6])"
      ]
     },
     "execution_count": 64,
     "metadata": {},
     "output_type": "execute_result"
    }
   ],
   "source": [
    "a1+2"
   ]
  },
  {
   "cell_type": "markdown",
   "id": "8453725c-b32f-409d-b17e-443df83db895",
   "metadata": {},
   "source": [
    "# NumPy Data Types"
   ]
  },
  {
   "cell_type": "markdown",
   "id": "c1823de2-ba10-4e46-a8c7-05cc4e3a9552",
   "metadata": {},
   "source": [
    "### NumPy supports following data types-"
   ]
  },
  {
   "cell_type": "code",
   "execution_count": null,
   "id": "88971575-b988-45a2-8859-703f0d708ce2",
   "metadata": {},
   "outputs": [],
   "source": []
  },
  {
   "cell_type": "markdown",
   "id": "55c20aec-c0f5-4ba9-bc50-8f13cb0162c2",
   "metadata": {},
   "source": [
    "# Ways to create NumPy Arrays"
   ]
  },
  {
   "cell_type": "markdown",
   "id": "dca3158c-375b-489b-a6cc-1eede5ef6cbd",
   "metadata": {},
   "source": [
    "1.array () fumction can be used to create array-"
   ]
  },
  {
   "cell_type": "markdown",
   "id": "443e274e-d779-4d09-b364-4a4ec796aa40",
   "metadata": {},
   "source": [
    "numpy.array(<arrayconvertible object>,[<datatype>])"
   ]
  },
  {
   "cell_type": "markdown",
   "id": "a0f891f3-b314-4cfa-b2a4-ee30c2ce8194",
   "metadata": {},
   "source": [
    "* Assuming NumPy has been imported as np."
   ]
  },
  {
   "cell_type": "code",
   "execution_count": 65,
   "id": "506e3292-1aca-451d-970f-c9e1bad2d409",
   "metadata": {},
   "outputs": [
    {
     "data": {
      "text/plain": [
       "array([2. , 5.2, 1. , 0. ])"
      ]
     },
     "execution_count": 65,
     "metadata": {},
     "output_type": "execute_result"
    }
   ],
   "source": [
    "import numpy as np\n",
    "narl=np.array([2,5.2,1,0])\n",
    "narl"
   ]
  },
  {
   "cell_type": "markdown",
   "id": "1a24e690-7052-4760-ab19-a6eb1d1a1859",
   "metadata": {},
   "source": [
    "above statement will do the following things-"
   ]
  },
  {
   "cell_type": "markdown",
   "id": "611b5c73-61f4-4426-b2a9-79150200e9fe",
   "metadata": {},
   "source": [
    "### creating array be specifying own datatype"
   ]
  },
  {
   "cell_type": "code",
   "execution_count": 66,
   "id": "1e1115d9-0818-4989-b6fb-b21e906f5f56",
   "metadata": {},
   "outputs": [
    {
     "data": {
      "text/plain": [
       "array([1, 2, 3, 4], dtype=int64)"
      ]
     },
     "execution_count": 66,
     "metadata": {},
     "output_type": "execute_result"
    }
   ],
   "source": [
    "l=[1,2,3,4]\n",
    "ar=np.array(l,dtype=np.int64)\n",
    "ar"
   ]
  },
  {
   "cell_type": "code",
   "execution_count": 67,
   "id": "eeaa3937-a7d5-4e1a-afb8-2d16b4866956",
   "metadata": {},
   "outputs": [
    {
     "data": {
      "text/plain": [
       "array([1, 2, 3, 4])"
      ]
     },
     "execution_count": 67,
     "metadata": {},
     "output_type": "execute_result"
    }
   ],
   "source": [
    "l=[1,2,3,4]\n",
    "ar=np.array(l,dtype=np.int32)\n",
    "ar"
   ]
  },
  {
   "cell_type": "code",
   "execution_count": 68,
   "id": "d9a353a4-2a51-4ebe-9dea-1a48b6ba91dc",
   "metadata": {},
   "outputs": [
    {
     "name": "stdout",
     "output_type": "stream",
     "text": [
      "<class 'numpy.ndarray'>\n"
     ]
    }
   ],
   "source": [
    "print(type(ar))"
   ]
  },
  {
   "cell_type": "code",
   "execution_count": 69,
   "id": "e72e5c0b-4e7b-410f-9ac4-1e48aaa61535",
   "metadata": {},
   "outputs": [
    {
     "name": "stdout",
     "output_type": "stream",
     "text": [
      "int32\n"
     ]
    }
   ],
   "source": [
    "print(ar.dtype)"
   ]
  },
  {
   "cell_type": "code",
   "execution_count": 70,
   "id": "f6b021c3-843a-436d-b3ec-f8f196495163",
   "metadata": {},
   "outputs": [
    {
     "name": "stdout",
     "output_type": "stream",
     "text": [
      "4\n"
     ]
    }
   ],
   "source": [
    "print(ar.itemsize)"
   ]
  },
  {
   "cell_type": "markdown",
   "id": "56634592-4c4c-4157-bd42-adfd188a5f5e",
   "metadata": {},
   "source": [
    "### 2.Create ndarray using fromiter()-"
   ]
  },
  {
   "cell_type": "markdown",
   "id": "b0321ba4-064c-41f8-bbf0-bd037871f080",
   "metadata": {},
   "source": [
    "the fromiter() function is useful when you want to create an ndarray from a non-numeric sequence."
   ]
  },
  {
   "cell_type": "markdown",
   "id": "d60495b0-7f79-4933-bd87-7050a75a12af",
   "metadata": {},
   "source": [
    "numpy.fromiter(<iterable sequence name>,<target data type>,[<count>])"
   ]
  },
  {
   "cell_type": "code",
   "execution_count": 71,
   "id": "fe5c5b5e-894f-472c-976f-727dbc7eed1a",
   "metadata": {},
   "outputs": [
    {
     "name": "stdout",
     "output_type": "stream",
     "text": [
      "[1 2 3 4 5]\n"
     ]
    }
   ],
   "source": [
    "ad={1:\"A\",2:\"B\",3:\"C\",4:\"D\",5:\"E\"}\n",
    "ar2=np.fromiter(ad,dtype=np.int32)\n",
    "print(ar2)"
   ]
  },
  {
   "cell_type": "code",
   "execution_count": 72,
   "id": "79e869b7-774a-4ba4-b1e8-1d0ce11426b3",
   "metadata": {},
   "outputs": [
    {
     "data": {
      "text/plain": [
       "dtype('int32')"
      ]
     },
     "execution_count": 72,
     "metadata": {},
     "output_type": "execute_result"
    }
   ],
   "source": [
    "ar2.dtype"
   ]
  },
  {
   "cell_type": "code",
   "execution_count": 73,
   "id": "0294e5bc-060a-4625-bd37-390be0cad214",
   "metadata": {},
   "outputs": [
    {
     "data": {
      "text/plain": [
       "4"
      ]
     },
     "execution_count": 73,
     "metadata": {},
     "output_type": "execute_result"
    }
   ],
   "source": [
    "ar2.itemsize"
   ]
  },
  {
   "cell_type": "code",
   "execution_count": 74,
   "id": "54c76474-17d7-47b9-af2a-7241242385c9",
   "metadata": {},
   "outputs": [
    {
     "name": "stdout",
     "output_type": "stream",
     "text": [
      "1 4\n"
     ]
    }
   ],
   "source": [
    "print(ar2[0],ar2[3])"
   ]
  },
  {
   "cell_type": "code",
   "execution_count": 75,
   "id": "1c4b8db5-1994-4317-88fb-9261395f068c",
   "metadata": {},
   "outputs": [
    {
     "data": {
      "text/plain": [
       "4"
      ]
     },
     "execution_count": 75,
     "metadata": {},
     "output_type": "execute_result"
    }
   ],
   "source": [
    "ar2[3]"
   ]
  },
  {
   "cell_type": "markdown",
   "id": "e4258738-bd88-463b-9489-f48a8136357d",
   "metadata": {},
   "source": [
    "## 3.arange () function is used to create array from a range"
   ]
  },
  {
   "cell_type": "markdown",
   "id": "baf54e41-fc3e-4191-a0e9-b9debc05a453",
   "metadata": {},
   "source": [
    "<arrayname>=numpy.arange([start],stop,[sleep],[dtype])"
   ]
  },
  {
   "cell_type": "code",
   "execution_count": 76,
   "id": "9e5b57b9-0912-403c-89a6-0cfabe775383",
   "metadata": {},
   "outputs": [
    {
     "data": {
      "text/plain": [
       "array([0, 1, 2, 3, 4])"
      ]
     },
     "execution_count": 76,
     "metadata": {},
     "output_type": "execute_result"
    }
   ],
   "source": [
    "import numpy as np\n",
    "arr1=np.arange(5)\n",
    "arr1"
   ]
  },
  {
   "cell_type": "markdown",
   "id": "e086aee9-b996-4b45-9337-10451db64de9",
   "metadata": {},
   "source": [
    "## 4.linespace() function can be used to prepare array of range"
   ]
  },
  {
   "cell_type": "markdown",
   "id": "8af41450-5d96-4270-87cc-429d93cea4d6",
   "metadata": {},
   "source": [
    "<arangename>=numpy.linespace([start],stop,[dtype])"
   ]
  },
  {
   "cell_type": "code",
   "execution_count": 77,
   "id": "0f89d38a-a5ca-41a7-a4fc-6c5f5844f46e",
   "metadata": {},
   "outputs": [
    {
     "data": {
      "text/plain": [
       "array([2. , 2.2, 2.4, 2.6, 2.8, 3. ])"
      ]
     },
     "execution_count": 77,
     "metadata": {},
     "output_type": "execute_result"
    }
   ],
   "source": [
    "import numpy as np\n",
    "arr3=np.linspace(2,3,6)\n",
    "arr3"
   ]
  },
  {
   "cell_type": "code",
   "execution_count": 78,
   "id": "e3e2e932-8b34-4a25-b2fe-8d649f18b529",
   "metadata": {},
   "outputs": [
    {
     "data": {
      "text/plain": [
       "array([2.5       , 2.85714286, 3.21428571, 3.57142857, 3.92857143,\n",
       "       4.28571429, 4.64285714, 5.        ])"
      ]
     },
     "execution_count": 78,
     "metadata": {},
     "output_type": "execute_result"
    }
   ],
   "source": [
    "import numpy as np\n",
    "arr4=np.linspace(2.5,5,8)\n",
    "arr4"
   ]
  },
  {
   "cell_type": "markdown",
   "id": "81c973dc-2a2e-4d0d-a50c-b037a2dc68ee",
   "metadata": {},
   "source": [
    "## 2D NumPy Arrays"
   ]
  },
  {
   "cell_type": "code",
   "execution_count": 79,
   "id": "47c98662-ab11-48db-b31a-263b16aeeceb",
   "metadata": {},
   "outputs": [
    {
     "data": {
      "text/plain": [
       "24"
      ]
     },
     "execution_count": 79,
     "metadata": {},
     "output_type": "execute_result"
    }
   ],
   "source": [
    "import numpy as np\n",
    "A=np.array([[10,11,12,13],[21,22,23,24]])\n",
    "A[1,3]"
   ]
  },
  {
   "cell_type": "code",
   "execution_count": 80,
   "id": "49526e68-ff71-466e-a698-e1d7c3145415",
   "metadata": {},
   "outputs": [
    {
     "data": {
      "text/plain": [
       "24"
      ]
     },
     "execution_count": 80,
     "metadata": {},
     "output_type": "execute_result"
    }
   ],
   "source": [
    "A[1][3]"
   ]
  },
  {
   "cell_type": "code",
   "execution_count": 81,
   "id": "d353295e-0073-48c7-bd2d-57cecdc149e4",
   "metadata": {},
   "outputs": [
    {
     "data": {
      "text/plain": [
       "array([[10, 11, 12, 13],\n",
       "       [21, 22, 23, 24]])"
      ]
     },
     "execution_count": 81,
     "metadata": {},
     "output_type": "execute_result"
    }
   ],
   "source": [
    "A"
   ]
  },
  {
   "cell_type": "code",
   "execution_count": 82,
   "id": "07178145-0669-4c4a-8d09-49ab4a6f4022",
   "metadata": {},
   "outputs": [
    {
     "name": "stdout",
     "output_type": "stream",
     "text": [
      "[[10 11 12 13]\n",
      " [21 22 23 24]]\n"
     ]
    }
   ],
   "source": [
    "print(A)"
   ]
  },
  {
   "cell_type": "code",
   "execution_count": 83,
   "id": "a6ad9b2a-7caf-4751-960a-f0548e9d34b8",
   "metadata": {},
   "outputs": [
    {
     "data": {
      "text/plain": [
       "(numpy.ndarray, numpy.ndarray)"
      ]
     },
     "execution_count": 83,
     "metadata": {},
     "output_type": "execute_result"
    }
   ],
   "source": [
    "type(A),type(a1)"
   ]
  },
  {
   "cell_type": "code",
   "execution_count": 84,
   "id": "23d9ac8c-9e2c-4b27-aa41-805e0b15e884",
   "metadata": {},
   "outputs": [
    {
     "data": {
      "text/plain": [
       "(2, 4)"
      ]
     },
     "execution_count": 84,
     "metadata": {},
     "output_type": "execute_result"
    }
   ],
   "source": [
    "A.shape"
   ]
  },
  {
   "cell_type": "code",
   "execution_count": 85,
   "id": "e24dc725-1bda-45a6-91fe-6b30c52a85e1",
   "metadata": {},
   "outputs": [
    {
     "data": {
      "text/plain": [
       "4"
      ]
     },
     "execution_count": 85,
     "metadata": {},
     "output_type": "execute_result"
    }
   ],
   "source": [
    "A.itemsize"
   ]
  },
  {
   "cell_type": "markdown",
   "id": "830b482a-9f7c-4ca0-bd7c-7f26a87788ac",
   "metadata": {},
   "source": [
    "## 2.creating 2D ndarrays using arange()-"
   ]
  },
  {
   "cell_type": "markdown",
   "id": "87ccabb0-e3df-4622-bcae-c12fd8fd6ef1",
   "metadata": {},
   "source": [
    "in the similer manner as we have created 1D ndarrays with arange() function,we can also create 2D ndarrays with arange()function along with reshape()."
   ]
  },
  {
   "cell_type": "markdown",
   "id": "1c249a83-87c8-48a5-98a1-a1a4813934d1",
   "metadata": {},
   "source": [
    "<ndarray>.reshape(<shape tuple>)"
   ]
  },
  {
   "cell_type": "code",
   "execution_count": 86,
   "id": "eef7b030-f909-48e5-81ca-006a0b1a5f3c",
   "metadata": {},
   "outputs": [
    {
     "data": {
      "text/plain": [
       "array([0, 1, 2, 3, 4, 5, 6, 7, 8, 9])"
      ]
     },
     "execution_count": 86,
     "metadata": {},
     "output_type": "execute_result"
    }
   ],
   "source": [
    "ar1=np.arange(10)\n",
    "ar1"
   ]
  },
  {
   "cell_type": "markdown",
   "id": "d19a927b-751f-4b14-919a-5761e7db17cf",
   "metadata": {},
   "source": [
    "ar3=ar1.reshape(5,2)\n",
    "ar3"
   ]
  },
  {
   "cell_type": "markdown",
   "id": "f3d6564f-fe66-4f85-86f9-600da2e5c596",
   "metadata": {},
   "source": [
    "## 3.Arrays Creation Alternative methods"
   ]
  },
  {
   "cell_type": "markdown",
   "id": "749927a6-52e3-42b2-a342-86ce8de7d793",
   "metadata": {},
   "source": [
    "a.using empty()-"
   ]
  },
  {
   "cell_type": "markdown",
   "id": "453b2073-4eb2-4861-b919-16af82888989",
   "metadata": {},
   "source": [
    "empty()function can be used to create empty array or an unintialized array of specified shape and dtype."
   ]
  },
  {
   "cell_type": "markdown",
   "id": "466663ac-26d6-4f6e-816b-afa074b5e70b",
   "metadata": {},
   "source": [
    "numpy.empty(shape,[dtype=<datatype>,][order='c' or 'f']"
   ]
  },
  {
   "cell_type": "markdown",
   "id": "3fc3d9e6-d04a-40af-8676-ea7810e93c02",
   "metadata": {},
   "source": [
    "where:dtype:is a data type of python or numpy to set initial values."
   ]
  },
  {
   "cell_type": "markdown",
   "id": "0a61ffef-c516-459a-a52b-2593ceb5f28e",
   "metadata": {},
   "source": [
    "shape:is dimension"
   ]
  },
  {
   "cell_type": "markdown",
   "id": "2f4abccb-defb-474e-8d4b-35beb306c94a",
   "metadata": {},
   "source": [
    "order:'C' means arrangment of data as row wise(C means C like)."
   ]
  },
  {
   "cell_type": "markdown",
   "id": "59dc43d4-c325-4053-bf28-c318fc77d9f4",
   "metadata": {},
   "source": [
    "order:'F' means arrangment of data as row wise(F means fortan like)"
   ]
  },
  {
   "cell_type": "code",
   "execution_count": 87,
   "id": "a823faa0-a383-4877-9b91-486a9a85a524",
   "metadata": {},
   "outputs": [
    {
     "data": {
      "text/plain": [
       "array([[4611686018427387904, 4612136378390124954, 4612586738352862003],\n",
       "       [4613037098315599053, 4613487458278336102, 4613937818241073152]],\n",
       "      dtype=int64)"
      ]
     },
     "execution_count": 87,
     "metadata": {},
     "output_type": "execute_result"
    }
   ],
   "source": [
    "arr1=np.empty([2,3],dtype=np.int64,order='c')\n",
    "arr1"
   ]
  },
  {
   "cell_type": "code",
   "execution_count": 88,
   "id": "50fbd8ea-0b09-47d6-95c6-9a3a14022125",
   "metadata": {},
   "outputs": [
    {
     "data": {
      "text/plain": [
       "array([[1, 1, 1],\n",
       "       [1, 1, 1]], dtype=int64)"
      ]
     },
     "execution_count": 88,
     "metadata": {},
     "output_type": "execute_result"
    }
   ],
   "source": [
    "arr1=np.ones([2,3],dtype=np.int64,order='c')\n",
    "arr1"
   ]
  },
  {
   "cell_type": "markdown",
   "id": "ab474065-e8d9-497d-a34b-0a8b301a58f5",
   "metadata": {},
   "source": [
    "# b.using zeros()-"
   ]
  },
  {
   "cell_type": "code",
   "execution_count": 89,
   "id": "658ed14e-d2ad-4906-b6c9-3575c04d729f",
   "metadata": {},
   "outputs": [
    {
     "data": {
      "text/plain": [
       "array([[0, 0, 0],\n",
       "       [0, 0, 0]], dtype=int64)"
      ]
     },
     "execution_count": 89,
     "metadata": {},
     "output_type": "execute_result"
    }
   ],
   "source": [
    "arr1=np.zeros([2,3],dtype=np.int64,order='c')\n",
    "arr1"
   ]
  },
  {
   "cell_type": "markdown",
   "id": "2dae8532-55a8-4bfe-9920-2f9f6a3218e7",
   "metadata": {},
   "source": [
    "## Array Slicing-"
   ]
  },
  {
   "cell_type": "markdown",
   "id": "64d84613-46da-4217-a283-deddc9a14fb8",
   "metadata": {},
   "source": [
    "it is possible to extract subsets of numpy arrays using slices,just like lists."
   ]
  },
  {
   "cell_type": "markdown",
   "id": "bea91924-f95d-48dd-8598-00c5afaffd54",
   "metadata": {},
   "source": [
    "<arrayname>[<start>:<stop>:<step>]"
   ]
  },
  {
   "cell_type": "markdown",
   "id": "22336ee8-d6c7-4371-8c5b-c9b3536b3e61",
   "metadata": {},
   "source": [
    "*when<start><stop><state>values are not specified then python will assume their default value as:\n",
    "start=0;stop=dimension size;step=1"
   ]
  },
  {
   "cell_type": "code",
   "execution_count": 90,
   "id": "bebbffbd-d6da-4549-aca0-b5fb78db9f71",
   "metadata": {},
   "outputs": [
    {
     "data": {
      "text/plain": [
       "array([ 8, 10, 12, 14])"
      ]
     },
     "execution_count": 90,
     "metadata": {},
     "output_type": "execute_result"
    }
   ],
   "source": [
    "arr=np.array([2,4,6,8,10,12,14,16])\n",
    "arr[3:7]"
   ]
  },
  {
   "cell_type": "code",
   "execution_count": 91,
   "id": "9a7251f2-e6a6-4449-b69e-4259ab9905a8",
   "metadata": {},
   "outputs": [
    {
     "data": {
      "text/plain": [
       "array([ 2,  4,  6,  8, 10])"
      ]
     },
     "execution_count": 91,
     "metadata": {},
     "output_type": "execute_result"
    }
   ],
   "source": [
    "arr[:5]"
   ]
  },
  {
   "cell_type": "code",
   "execution_count": 92,
   "id": "e10b7e22-fd0b-46be-bab9-339b618dd026",
   "metadata": {},
   "outputs": [
    {
     "data": {
      "text/plain": [
       "array([10, 12, 14, 16])"
      ]
     },
     "execution_count": 92,
     "metadata": {},
     "output_type": "execute_result"
    }
   ],
   "source": [
    "arr[4:]"
   ]
  },
  {
   "cell_type": "code",
   "execution_count": 93,
   "id": "83b77217-4c4b-4be6-a005-89427bf6b086",
   "metadata": {},
   "outputs": [
    {
     "data": {
      "text/plain": [
       "array([ 2,  4,  6,  8, 10, 12, 14])"
      ]
     },
     "execution_count": 93,
     "metadata": {},
     "output_type": "execute_result"
    }
   ],
   "source": [
    "arr[:-1]"
   ]
  },
  {
   "cell_type": "code",
   "execution_count": 94,
   "id": "cf9789b3-bff9-40f5-8e5a-f0a045ff4ce1",
   "metadata": {},
   "outputs": [
    {
     "data": {
      "text/plain": [
       "array([16])"
      ]
     },
     "execution_count": 94,
     "metadata": {},
     "output_type": "execute_result"
    }
   ],
   "source": [
    "arr[-1:]"
   ]
  },
  {
   "cell_type": "code",
   "execution_count": 95,
   "id": "b0cad78d-c1aa-4aee-9116-0cbe84095902",
   "metadata": {},
   "outputs": [
    {
     "data": {
      "text/plain": [
       "array([ 6, 10, 14])"
      ]
     },
     "execution_count": 95,
     "metadata": {},
     "output_type": "execute_result"
    }
   ],
   "source": [
    "arr[2:7:2]"
   ]
  },
  {
   "cell_type": "code",
   "execution_count": 96,
   "id": "e9ae9b7b-2f51-4f82-b88c-f6a70687452d",
   "metadata": {},
   "outputs": [
    {
     "data": {
      "text/plain": [
       "array([ 2,  4,  6,  8, 10])"
      ]
     },
     "execution_count": 96,
     "metadata": {},
     "output_type": "execute_result"
    }
   ],
   "source": [
    "arr[:-3]"
   ]
  },
  {
   "cell_type": "markdown",
   "id": "aa449ed6-2e96-4853-a629-bd5cff7272e5",
   "metadata": {},
   "source": [
    "# joing or concatenation NumPy arrays-"
   ]
  },
  {
   "cell_type": "markdown",
   "id": "2cd695b3-2f91-4cfb-a3eb-8f2d40c2e818",
   "metadata": {},
   "source": [
    "for joing or concatating of two or more exixting ndarrays,python provides following functions-\n",
    "\n",
    "\n",
    "    "
   ]
  },
  {
   "cell_type": "markdown",
   "id": "910857b0-e346-4fdb-8f98-07ad8bf04433",
   "metadata": {},
   "source": [
    " 1.hask()and vstack()\n",
    "\n",
    "   2.concated()"
   ]
  },
  {
   "cell_type": "code",
   "execution_count": 97,
   "id": "99b319cb-d59c-4234-9cb3-adcb4ae07615",
   "metadata": {},
   "outputs": [
    {
     "data": {
      "text/plain": [
       "array([1, 2, 3, 4, 5])"
      ]
     },
     "execution_count": 97,
     "metadata": {},
     "output_type": "execute_result"
    }
   ],
   "source": [
    "list1=[1,2,3,4,5]\n",
    "list2=[6,7,8,9,10]\n",
    "a1=np.array(list1)\n",
    "a1"
   ]
  },
  {
   "cell_type": "code",
   "execution_count": 98,
   "id": "e203f3fb-535d-4f4d-b8c8-693120876377",
   "metadata": {},
   "outputs": [
    {
     "data": {
      "text/plain": [
       "array([ 6,  7,  8,  9, 10])"
      ]
     },
     "execution_count": 98,
     "metadata": {},
     "output_type": "execute_result"
    }
   ],
   "source": [
    "a2=np.array(list2)\n",
    "a2"
   ]
  },
  {
   "cell_type": "code",
   "execution_count": 99,
   "id": "0dbc2b3c-9308-4e1b-bfa6-334ba7a1bc99",
   "metadata": {},
   "outputs": [
    {
     "data": {
      "text/plain": [
       "array([ 1,  2,  3,  4,  5,  6,  7,  8,  9, 10])"
      ]
     },
     "execution_count": 99,
     "metadata": {},
     "output_type": "execute_result"
    }
   ],
   "source": [
    "join1=np.hstack((a1,a2))\n",
    "join1"
   ]
  },
  {
   "cell_type": "code",
   "execution_count": 100,
   "id": "9b79847c-8491-47c4-b118-97760ec4f10d",
   "metadata": {},
   "outputs": [
    {
     "data": {
      "text/plain": [
       "array([[ 1,  2,  3,  4,  5],\n",
       "       [ 6,  7,  8,  9, 10]])"
      ]
     },
     "execution_count": 100,
     "metadata": {},
     "output_type": "execute_result"
    }
   ],
   "source": [
    "join2=np.vstack((a1,a2))\n",
    "join2"
   ]
  },
  {
   "cell_type": "markdown",
   "id": "adf00ac2-e48d-42e0-9fd9-27b65acf5f66",
   "metadata": {},
   "source": [
    "# combinnig existing arrays using concatenate()-"
   ]
  },
  {
   "cell_type": "code",
   "execution_count": 101,
   "id": "60d0b217-e031-4eee-a927-092e9f5294ae",
   "metadata": {},
   "outputs": [
    {
     "data": {
      "text/plain": [
       "array([[1, 2, 3],\n",
       "       [4, 5, 6],\n",
       "       [7, 8, 9]])"
      ]
     },
     "execution_count": 101,
     "metadata": {},
     "output_type": "execute_result"
    }
   ],
   "source": [
    "a1=np.array([1,2,3,4,5,6,7,8,9]).reshape(3,3)\n",
    "a1"
   ]
  },
  {
   "cell_type": "code",
   "execution_count": 102,
   "id": "72996669-91a0-402f-9a2a-636d243486e4",
   "metadata": {},
   "outputs": [
    {
     "data": {
      "text/plain": [
       "array([[1, 2, 3],\n",
       "       [4, 5, 6]])"
      ]
     },
     "execution_count": 102,
     "metadata": {},
     "output_type": "execute_result"
    }
   ],
   "source": [
    "a2=np.array([1,2,3,4,5,6]).reshape(2,3)\n",
    "a2"
   ]
  },
  {
   "cell_type": "code",
   "execution_count": 103,
   "id": "7af9b762-dba7-4afd-bbc1-2ce7d72ea3cc",
   "metadata": {},
   "outputs": [
    {
     "data": {
      "text/plain": [
       "array([[1, 2],\n",
       "       [3, 4],\n",
       "       [5, 6]])"
      ]
     },
     "execution_count": 103,
     "metadata": {},
     "output_type": "execute_result"
    }
   ],
   "source": [
    "a3=np.array([1,2,3,4,5,6]).reshape(3,2)\n",
    "a3"
   ]
  },
  {
   "cell_type": "code",
   "execution_count": 104,
   "id": "e8700854-4a87-43e4-83d0-6b11daf88c21",
   "metadata": {},
   "outputs": [
    {
     "data": {
      "text/plain": [
       "array([[1],\n",
       "       [2],\n",
       "       [3]])"
      ]
     },
     "execution_count": 104,
     "metadata": {},
     "output_type": "execute_result"
    }
   ],
   "source": [
    "a4=np.array([1,2,3]).reshape(3,1)\n",
    "a4"
   ]
  },
  {
   "cell_type": "code",
   "execution_count": 105,
   "id": "a1bbd71e-f269-49fa-a9e3-07ae7f62f564",
   "metadata": {},
   "outputs": [
    {
     "data": {
      "text/plain": [
       "array([[1, 2, 3],\n",
       "       [4, 5, 6],\n",
       "       [7, 8, 9],\n",
       "       [1, 2, 3],\n",
       "       [4, 5, 6]])"
      ]
     },
     "execution_count": 105,
     "metadata": {},
     "output_type": "execute_result"
    }
   ],
   "source": [
    "j1=np.concatenate((a1,a2),axis=0)\n",
    "j1"
   ]
  },
  {
   "cell_type": "code",
   "execution_count": 106,
   "id": "4ac9ba91-84b1-4f8c-b5fb-7491e0c94e1c",
   "metadata": {},
   "outputs": [
    {
     "data": {
      "text/plain": [
       "array([[1, 2, 3, 1, 2],\n",
       "       [4, 5, 6, 3, 4],\n",
       "       [7, 8, 9, 5, 6]])"
      ]
     },
     "execution_count": 106,
     "metadata": {},
     "output_type": "execute_result"
    }
   ],
   "source": [
    "j2=np.concatenate((a1,a3),axis=1)\n",
    "j2"
   ]
  },
  {
   "cell_type": "code",
   "execution_count": 107,
   "id": "610ef8f2-bf65-4f11-96b7-8231fec37af7",
   "metadata": {},
   "outputs": [
    {
     "data": {
      "text/plain": [
       "array([[1, 2, 3, 1],\n",
       "       [4, 5, 6, 2],\n",
       "       [7, 8, 9, 3]])"
      ]
     },
     "execution_count": 107,
     "metadata": {},
     "output_type": "execute_result"
    }
   ],
   "source": [
    "j3=np.concatenate((a1,a4),axis=1)\n",
    "j3"
   ]
  },
  {
   "cell_type": "markdown",
   "id": "5724e408-0ec3-4206-984e-d2e51c382eba",
   "metadata": {},
   "source": [
    "## Obtaining subsets of arrays"
   ]
  },
  {
   "cell_type": "code",
   "execution_count": 108,
   "id": "d58e3fb3-58af-4349-8ab0-511e270974ba",
   "metadata": {},
   "outputs": [
    {
     "data": {
      "text/plain": [
       "array([[ 0.,  1.,  2.,  3.,  4.,  5.],\n",
       "       [ 6.,  7.,  8.,  9., 10., 11.],\n",
       "       [12., 13., 14., 15., 16., 17.],\n",
       "       [18., 19., 20., 21., 22., 23.]])"
      ]
     },
     "execution_count": 108,
     "metadata": {},
     "output_type": "execute_result"
    }
   ],
   "source": [
    "ary=np.arange(24.0).reshape(4,6)\n",
    "ary"
   ]
  },
  {
   "cell_type": "code",
   "execution_count": 109,
   "id": "2a524ae9-4332-4fe2-bc7c-49549de16b84",
   "metadata": {},
   "outputs": [
    {
     "data": {
      "text/plain": [
       "[array([[ 0.,  1.,  2.],\n",
       "        [ 6.,  7.,  8.],\n",
       "        [12., 13., 14.],\n",
       "        [18., 19., 20.]]),\n",
       " array([[ 3.,  4.,  5.],\n",
       "        [ 9., 10., 11.],\n",
       "        [15., 16., 17.],\n",
       "        [21., 22., 23.]])]"
      ]
     },
     "execution_count": 109,
     "metadata": {},
     "output_type": "execute_result"
    }
   ],
   "source": [
    "np.hsplit(ary,2)"
   ]
  },
  {
   "cell_type": "code",
   "execution_count": 110,
   "id": "0cad515b-2818-49be-bb45-e0f59e588715",
   "metadata": {},
   "outputs": [
    {
     "data": {
      "text/plain": [
       "[array([[ 0.,  1.,  2.,  3.,  4.,  5.],\n",
       "        [ 6.,  7.,  8.,  9., 10., 11.]]),\n",
       " array([[12., 13., 14., 15., 16., 17.],\n",
       "        [18., 19., 20., 21., 22., 23.]])]"
      ]
     },
     "execution_count": 110,
     "metadata": {},
     "output_type": "execute_result"
    }
   ],
   "source": [
    "np.vsplit(ary,2)"
   ]
  },
  {
   "cell_type": "markdown",
   "id": "0e9be2d0-3e4c-4813-a4ca-08c3c26c94ef",
   "metadata": {},
   "source": [
    "## b.using the split() function-"
   ]
  },
  {
   "cell_type": "code",
   "execution_count": 111,
   "id": "f1bb7cdc-5876-485e-a1b6-322a6047aec1",
   "metadata": {},
   "outputs": [
    {
     "data": {
      "text/plain": [
       "[array([10, 11]), array([12, 13, 15, 15]), array([16, 17, 18, 19])]"
      ]
     },
     "execution_count": 111,
     "metadata": {},
     "output_type": "execute_result"
    }
   ],
   "source": [
    "ar1d=[10,11,12,13,15,15,16,17,18,19]\n",
    "np.split(ar1d,[2,6])"
   ]
  },
  {
   "cell_type": "code",
   "execution_count": 112,
   "id": "555591e3-5a9b-4d0a-83b1-b77ac7224ade",
   "metadata": {},
   "outputs": [
    {
     "data": {
      "text/plain": [
       "array([[ 0.,  1.,  2.,  3.,  4.,  5.],\n",
       "       [ 6.,  7.,  8.,  9., 10., 11.],\n",
       "       [12., 13., 14., 15., 16., 17.],\n",
       "       [18., 19., 20., 21., 22., 23.]])"
      ]
     },
     "execution_count": 112,
     "metadata": {},
     "output_type": "execute_result"
    }
   ],
   "source": [
    "ary=np.arange(24.0).reshape(4,6)\n",
    "ary"
   ]
  },
  {
   "cell_type": "code",
   "execution_count": 113,
   "id": "7225f03f-8b87-4ef0-b0ae-bfe9acf19f14",
   "metadata": {},
   "outputs": [
    {
     "data": {
      "text/plain": [
       "[array([[0., 1., 2., 3., 4., 5.]]),\n",
       " array([[ 6.,  7.,  8.,  9., 10., 11.],\n",
       "        [12., 13., 14., 15., 16., 17.],\n",
       "        [18., 19., 20., 21., 22., 23.]]),\n",
       " array([], shape=(0, 6), dtype=float64)]"
      ]
     },
     "execution_count": 113,
     "metadata": {},
     "output_type": "execute_result"
    }
   ],
   "source": [
    "np.split(ary,[1,4])"
   ]
  },
  {
   "cell_type": "code",
   "execution_count": 114,
   "id": "3fca120f-82fb-4930-8a8a-24a382d882c4",
   "metadata": {},
   "outputs": [
    {
     "data": {
      "text/plain": [
       "[array([[ 0.,  1.],\n",
       "        [ 6.,  7.],\n",
       "        [12., 13.],\n",
       "        [18., 19.]]),\n",
       " array([[ 2.,  3.,  4.],\n",
       "        [ 8.,  9., 10.],\n",
       "        [14., 15., 16.],\n",
       "        [20., 21., 22.]]),\n",
       " array([[ 5.],\n",
       "        [11.],\n",
       "        [17.],\n",
       "        [23.]])]"
      ]
     },
     "execution_count": 114,
     "metadata": {},
     "output_type": "execute_result"
    }
   ],
   "source": [
    "np.split(ary,[2,5],axis=1)"
   ]
  },
  {
   "cell_type": "code",
   "execution_count": 115,
   "id": "3dad60ab-692d-4c37-8c02-19b39b336478",
   "metadata": {},
   "outputs": [
    {
     "data": {
      "text/plain": [
       "[array([[ 0.,  1.,  2.,  3.,  4.,  5.],\n",
       "        [ 6.,  7.,  8.,  9., 10., 11.]]),\n",
       " array([[12., 13., 14., 15., 16., 17.],\n",
       "        [18., 19., 20., 21., 22., 23.]]),\n",
       " array([], shape=(0, 6), dtype=float64)]"
      ]
     },
     "execution_count": 115,
     "metadata": {},
     "output_type": "execute_result"
    }
   ],
   "source": [
    "np.split(ary,[2,4])"
   ]
  },
  {
   "cell_type": "code",
   "execution_count": 116,
   "id": "00b016e8-8e21-4e46-9c8c-71a6019051ff",
   "metadata": {},
   "outputs": [
    {
     "data": {
      "text/plain": [
       "[array([[ 0.,  1.,  2.,  3.,  4.,  5.],\n",
       "        [ 6.,  7.,  8.,  9., 10., 11.]]),\n",
       " array([[12., 13., 14., 15., 16., 17.],\n",
       "        [18., 19., 20., 21., 22., 23.]]),\n",
       " array([], shape=(0, 6), dtype=float64)]"
      ]
     },
     "execution_count": 116,
     "metadata": {},
     "output_type": "execute_result"
    }
   ],
   "source": [
    "np.split(ary,[2,5],axis=0)"
   ]
  },
  {
   "cell_type": "markdown",
   "id": "d891b601-e3cc-467f-97ef-bea07a1b26aa",
   "metadata": {},
   "source": [
    "## Extracting condition based non-contiguous subsets"
   ]
  },
  {
   "cell_type": "code",
   "execution_count": 117,
   "id": "f167fca8-bd7f-41ae-b66b-b73c295fdef2",
   "metadata": {},
   "outputs": [
    {
     "data": {
      "text/plain": [
       "array([[ 0.,  1.,  2.,  3.,  4.,  5.],\n",
       "       [ 6.,  7.,  8.,  9., 10., 11.],\n",
       "       [12., 13., 14., 15., 16., 17.],\n",
       "       [18., 19., 20., 21., 22., 23.]])"
      ]
     },
     "execution_count": 117,
     "metadata": {},
     "output_type": "execute_result"
    }
   ],
   "source": [
    "ary"
   ]
  },
  {
   "cell_type": "code",
   "execution_count": 118,
   "id": "7286f9eb-150b-47d5-a75a-ff494095dc8d",
   "metadata": {},
   "outputs": [
    {
     "data": {
      "text/plain": [
       "array([[ True, False, False, False, False,  True],\n",
       "       [False, False, False, False,  True, False],\n",
       "       [False, False, False,  True, False, False],\n",
       "       [False, False,  True, False, False, False]])"
      ]
     },
     "execution_count": 118,
     "metadata": {},
     "output_type": "execute_result"
    }
   ],
   "source": [
    "cond=np.mod(ary,5)==0\n",
    "cond"
   ]
  },
  {
   "cell_type": "markdown",
   "id": "e1ea07c9-a922-4050-ada4-6ebc20c2f455",
   "metadata": {},
   "source": [
    "## Arithmetic operations on 2D arrays"
   ]
  },
  {
   "cell_type": "markdown",
   "id": "9f2ee960-9301-4cfc-94b0-1047ffef46f4",
   "metadata": {},
   "source": [
    "## a.using operators-"
   ]
  },
  {
   "cell_type": "code",
   "execution_count": 119,
   "id": "89ec90a2-8c94-48f3-b62e-d8fddb5d904c",
   "metadata": {},
   "outputs": [
    {
     "data": {
      "text/plain": [
       "array([[ 1.5,  2.5,  3.5,  4.5,  5.5,  6.5],\n",
       "       [ 7.5,  8.5,  9.5, 10.5, 11.5, 12.5],\n",
       "       [13.5, 14.5, 15.5, 16.5, 17.5, 18.5],\n",
       "       [19.5, 20.5, 21.5, 22.5, 23.5, 24.5]])"
      ]
     },
     "execution_count": 119,
     "metadata": {},
     "output_type": "execute_result"
    }
   ],
   "source": [
    "ary+1.5"
   ]
  },
  {
   "cell_type": "code",
   "execution_count": 121,
   "id": "7ffda0f2-4151-48b1-9e9a-748260237a35",
   "metadata": {},
   "outputs": [
    {
     "data": {
      "text/plain": [
       "array([[ 2.1,  4.1,  6.1,  8.1, 10.1, 12.1],\n",
       "       [14.1, 16.1, 18.1, 20.1, 22.1, 24.1],\n",
       "       [26.1, 28.1, 30.1, 32.1, 34.1, 36.1],\n",
       "       [38.1, 40.1, 42.1, 44.1, 46.1, 48.1]])"
      ]
     },
     "execution_count": 121,
     "metadata": {},
     "output_type": "execute_result"
    }
   ],
   "source": [
    "new=ary+2.1\n",
    "ary+new"
   ]
  },
  {
   "cell_type": "code",
   "execution_count": 122,
   "id": "2e397654-8cb7-4791-9279-33059a218435",
   "metadata": {},
   "outputs": [
    {
     "data": {
      "text/plain": [
       "array([[ 0.,  3.,  6.,  9., 12., 15.],\n",
       "       [18., 21., 24., 27., 30., 33.],\n",
       "       [36., 39., 42., 45., 48., 51.],\n",
       "       [54., 57., 60., 63., 66., 69.]])"
      ]
     },
     "execution_count": 122,
     "metadata": {},
     "output_type": "execute_result"
    }
   ],
   "source": [
    "np.multiply(ary,3)"
   ]
  },
  {
   "cell_type": "markdown",
   "id": "c7adbd6c-1bf9-4bb1-8528-a469322e7382",
   "metadata": {},
   "source": [
    "# Application on numpy Arrays"
   ]
  },
  {
   "cell_type": "markdown",
   "id": "57dba1a6-c7fa-4849-8fef-bffc2862292f",
   "metadata": {},
   "source": [
    "## covariance"
   ]
  },
  {
   "cell_type": "markdown",
   "id": "0cb31d36-7f32-46b1-b02a-b852a10c703d",
   "metadata": {},
   "source": [
    "the intutive idea behind convariance is that it tells how similer variying two datasets are.A heigh positive covariance between 2 datsets means they are very strongly similar.similarly,a high negative convariance between 2 datasets means they are very dissimalar."
   ]
  },
  {
   "cell_type": "markdown",
   "id": "40cd455b-2e30-42b8-8e0b-380c409a20fe",
   "metadata": {},
   "source": [
    "numpy.co(<arr1>m<arr2>)"
   ]
  },
  {
   "cell_type": "code",
   "execution_count": 124,
   "id": "61c915a2-95d6-4513-8aff-684fd95b6cb5",
   "metadata": {},
   "outputs": [
    {
     "data": {
      "text/plain": [
       "array([[ 2.5 , -4.25],\n",
       "       [-4.25,  8.3 ]])"
      ]
     },
     "execution_count": 124,
     "metadata": {},
     "output_type": "execute_result"
    }
   ],
   "source": [
    "a=np.array([1,2,3,4,5])\n",
    "b=np.array([3,4,0,-1,-3])\n",
    "check=np.cov(a,b)\n",
    "check"
   ]
  },
  {
   "cell_type": "markdown",
   "id": "5c3b2b2c-3d52-4be0-a8e5-f9bab0c85706",
   "metadata": {},
   "source": [
    "## 2.correlation"
   ]
  },
  {
   "cell_type": "markdown",
   "id": "5e69b034-21ee-4029-b2df-52ed54ad4759",
   "metadata": {},
   "source": [
    "correlation is basically normalized covariance.it gives two values:1 if the data sets have positive convariance-1 if the datasets have negative convariance."
   ]
  },
  {
   "cell_type": "markdown",
   "id": "bbf723c9-445b-4291-b957-e5bdb50798b1",
   "metadata": {},
   "source": [
    "np.corrocoef(<array1>,array2>)"
   ]
  },
  {
   "cell_type": "code",
   "execution_count": 127,
   "id": "f3d3c314-a43b-433e-b379-283dc676d4d3",
   "metadata": {},
   "outputs": [
    {
     "data": {
      "text/plain": [
       "array([[ 1.        , -0.93299621],\n",
       "       [-0.93299621,  1.        ]])"
      ]
     },
     "execution_count": 127,
     "metadata": {},
     "output_type": "execute_result"
    }
   ],
   "source": [
    "corr=np.corrcoef(a,b)\n",
    "corr"
   ]
  },
  {
   "cell_type": "markdown",
   "id": "35dd7126-9387-447d-a1df-f4c073469942",
   "metadata": {},
   "source": [
    "# Thank You"
   ]
  },
  {
   "cell_type": "code",
   "execution_count": null,
   "id": "d1cdbe04-0a8c-47bc-8766-9b247394242f",
   "metadata": {},
   "outputs": [],
   "source": []
  }
 ],
 "metadata": {
  "kernelspec": {
   "display_name": "Python 3 (ipykernel)",
   "language": "python",
   "name": "python3"
  },
  "language_info": {
   "codemirror_mode": {
    "name": "ipython",
    "version": 3
   },
   "file_extension": ".py",
   "mimetype": "text/x-python",
   "name": "python",
   "nbconvert_exporter": "python",
   "pygments_lexer": "ipython3",
   "version": "3.12.7"
  }
 },
 "nbformat": 4,
 "nbformat_minor": 5
}
